{
 "cells": [
  {
   "cell_type": "code",
   "execution_count": null,
   "metadata": {},
   "outputs": [],
   "source": [
    "%pip install faster-whisper gradio imageio[ffmpeg] yt-dlp langchain langchain-ollama langchain-community"
   ]
  },
  {
   "cell_type": "code",
   "execution_count": null,
   "metadata": {},
   "outputs": [],
   "source": [
    "# Check if ffmpeg is installed and where it is located\n",
    "import imageio_ffmpeg\n",
    "print(imageio_ffmpeg.get_ffmpeg_exe())"
   ]
  },
  {
   "cell_type": "code",
   "execution_count": null,
   "metadata": {},
   "outputs": [],
   "source": [
    "from tqdm import tqdm\n",
    "import textwrap\n",
    "from faster_whisper import WhisperModel"
   ]
  },
  {
   "cell_type": "code",
   "execution_count": null,
   "metadata": {},
   "outputs": [
    {
     "name": "stdout",
     "output_type": "stream",
     "text": [
      "[youtube] Extracting URL: https://www.youtube.com/watch?v=cXL-E7I6Oe4\n",
      "[youtube] cXL-E7I6Oe4: Downloading webpage\n",
      "[youtube] cXL-E7I6Oe4: Downloading tv client config\n",
      "[youtube] cXL-E7I6Oe4: Downloading player 6b3caec8\n",
      "[youtube] cXL-E7I6Oe4: Downloading tv player API JSON\n",
      "[youtube] cXL-E7I6Oe4: Downloading ios player API JSON\n",
      "[youtube] cXL-E7I6Oe4: Downloading m3u8 information\n",
      "[info] cXL-E7I6Oe4: Downloading 1 format(s): 251\n",
      "[download] Destination: video_audio.webm\n",
      "\n",
      "[download]   0.0% of    2.78MiB at  499.86KiB/s ETA 00:05\n",
      "[download]   0.1% of    2.78MiB at    1.46MiB/s ETA 00:01\n",
      "[download]   0.2% of    2.78MiB at    3.42MiB/s ETA 00:00\n",
      "[download]   0.5% of    2.78MiB at    7.32MiB/s ETA 00:00\n",
      "[download]   1.1% of    2.78MiB at    5.50MiB/s ETA 00:00\n",
      "[download]   2.2% of    2.78MiB at    5.77MiB/s ETA 00:00\n",
      "[download]   4.5% of    2.78MiB at    7.64MiB/s ETA 00:00\n",
      "[download]   9.0% of    2.78MiB at   11.73MiB/s ETA 00:00\n",
      "[download]  17.9% of    2.78MiB at   18.23MiB/s ETA 00:00\n",
      "[download]  35.9% of    2.78MiB at   29.86MiB/s ETA 00:00\n",
      "[download]  71.9% of    2.78MiB at   45.47MiB/s ETA 00:00\n",
      "[download] 100.0% of    2.78MiB at   55.66MiB/s ETA 00:00\n",
      "[download] 100% of    2.78MiB in 00:00:00 at 30.94MiB/s  \n",
      "[ExtractAudio] Destination: video_audio.mp3\n",
      "Deleting original file video_audio.webm (pass -k to keep)\n"
     ]
    }
   ],
   "source": [
    "!yt-dlp -f \"bestaudio\" -x --audio-format mp3 -o \"video_audio.mp3\" --ffmpeg-location \"your/local/path/to/ffmpeg\" \"https://www.youtube.com/watch?v=cXL-E7I6Oe4\""
   ]
  },
  {
   "cell_type": "code",
   "execution_count": 33,
   "metadata": {},
   "outputs": [],
   "source": [
    "def wrap_paragraphs(text, width=80) -> str:\n",
    "    \"\"\"\n",
    "    Wrap paragraphs of text to a given width.\n",
    "    \n",
    "    Args:\n",
    "        text: The text to wrap.\n",
    "        width: The width to wrap the text to.\n",
    "\n",
    "    Returns:    \n",
    "        The wrapped text.\n",
    "    \"\"\"\n",
    "    paragraphs = text.split('\\n\\n')  # split on double newlines\n",
    "    wrapped_paragraphs = []\n",
    "    for paragraph in paragraphs:\n",
    "        wrapped_paragraphs.append(textwrap.fill(paragraph, width=width))\n",
    "    return \"\\n\\n\".join(wrapped_paragraphs)"
   ]
  },
  {
   "cell_type": "code",
   "execution_count": 11,
   "metadata": {},
   "outputs": [],
   "source": [
    "model_size = \"small\"\n",
    "\n",
    "model = WhisperModel(model_size, device=\"cpu\", compute_type=\"int8\")"
   ]
  },
  {
   "cell_type": "code",
   "execution_count": null,
   "metadata": {},
   "outputs": [],
   "source": [
    "def transcribe(audio_file) -> str:\n",
    "    \"\"\"\n",
    "    Transcribe an audio file.\n",
    "\n",
    "    Args:\n",
    "        audio_file: The path to the audio file to transcribe.\n",
    "\n",
    "    Returns:\n",
    "        The transcription of the audio file.\n",
    "    \"\"\"\n",
    "\n",
    "    segments, info = model.transcribe(audio_file, beam_size=5)\n",
    "    print(\"Detected language '%s' with probability %f\" % (info.language, info.language_probability))\n",
    "    \n",
    "    transcription = \"\"\n",
    "    for segment in tqdm(segments, desc=\"Transcribing\", unit=\"segment\"):\n",
    "        transcription += \"[%.2fs -> %.2fs] %s\\n\" % (segment.start, segment.end, segment.text)\n",
    "    \n",
    "    return transcription"
   ]
  },
  {
   "cell_type": "code",
   "execution_count": 25,
   "metadata": {},
   "outputs": [
    {
     "name": "stdout",
     "output_type": "stream",
     "text": [
      "Detected language 'pt' with probability 0.981688\n"
     ]
    },
    {
     "name": "stderr",
     "output_type": "stream",
     "text": [
      "Transcribing: 41segment [00:25,  1.59segment/s]\n"
     ]
    }
   ],
   "source": [
    "transcription = transcribe(\"video_audio.mp3\")"
   ]
  },
  {
   "cell_type": "code",
   "execution_count": 30,
   "metadata": {},
   "outputs": [
    {
     "name": "stdout",
     "output_type": "stream",
     "text": [
      "[0.00s -> 7.28s]  O 360 está de volta e agora vamos fazer um giro de notícias com os nossos\n",
      "[7.28s -> 11.70s]  repórteres espalhados pelo Brasil? Vamos começar, olha, já temos Luciana\n",
      "[11.70s -> 17.60s]  Maral aqui de Brasília. Brasília Camila Tícia em Salvador e Adriana de\n",
      "[17.60s -> 22.88s]  Lucca em São Paulo. Vamos começar com a Luciana Maral, porque aqui de Brasília,\n",
      "[22.88s -> 27.60s]  porque é a Comissão Temporária do Senado, que trata da regulamentação da\n",
      "[27.60s -> 33.68s]  inteligência artificial, aprovou hoje a proposta que cria regras para o uso dessa\n",
      "[33.68s -> 38.88s]  tecnologia no Brasil. Luciana, é uma informação muito importante, porque\n",
      "[38.88s -> 45.92s]  traça, né? Um risco no chão, porque por enquanto, do jeito que está, está muito\n",
      "[45.92s -> 50.40s]  o Adeus Dará. Conta pra gente então o que foi aprovado e qual que é a\n",
      "[50.40s -> 55.68s]  tremitação daqui pra frente. Boa tarde pra todas vocês, meninas.\n",
      "[57.60s -> 63.24s]  Tudo bem, Debra? Muito boa tarde a você, as meninas, a todos que nos acompanham aqui no\n",
      "[63.24s -> 70.00s]  360, excelente tarde de quinta-feira a todo mundo. Pois é, demorou a ser aprovado a\n",
      "[70.00s -> 75.36s]  passar por essa Comissão Temporária no Senado, levou mais de seis meses, se a\n",
      "[75.36s -> 79.72s]  gente for levar em consideração, desde quando chegou, então, ali a esse\n",
      "[79.72s -> 84.76s]  colegiado teve muita divergência, porque a oposição dizia que o texto podia\n",
      "[84.76s -> 89.52s]  restringir a liberdade de expressão, também o desenvolvimento tecnológico da\n",
      "[89.52s -> 93.84s]  inteligência artificial. O próprio relator desse texto, senador Eduardo Gomes,\n",
      "[93.84s -> 100.20s]  chegou a dizer que o governo entre si fez pedidos conflitantes em relação ao\n",
      "[100.20s -> 104.40s]  assunto. Então, também é claro que esse projeto é alvo de interesse das\n",
      "[104.40s -> 110.16s]  chamadas Big Techs, as empresas de grande tecnologia, de plataformas digitais,\n",
      "[110.16s -> 116.20s]  então, depois de meses travado por conta de impasses, foi aprovado hoje na\n",
      "[116.20s -> 122.08s]  Comissão Especial, já teve requerimento de urgência aprovado também no Plenário\n",
      "[122.08s -> 127.76s]  do Senado, perspectiva é que o conteúdo em si desse projeto seja analisado a partir\n",
      "[127.76s -> 132.00s]  da terça-feira que vem. E daí não acaba no Senado, tá? Depois que passar\n",
      "[132.00s -> 136.16s]  pelos senadores, ainda tem que ir para a Câmara dos Deputados, mas aí a\n",
      "[136.16s -> 141.48s]  iniciativa é que realmente só seja votado a partir do ano que vem. Bem, que diz\n",
      "[141.48s -> 146.92s]  então o projeto? Ele regula o uso e o desenvolvimento da inteligência artificial\n",
      "[146.92s -> 151.96s]  aqui no Brasil, estabelece as definições dos sistemas de inteligência\n",
      "[151.96s -> 157.20s]  artificial, classifica ele de acordo com o risco, por exemplo. É considerado\n",
      "[157.20s -> 162.48s]  de alto risco o que tiver o potencial de impactar negativamente pessoas ou\n",
      "[162.76s -> 168.44s]  e isso se a inteligência artificial for usada em processos de seleção, avaliação,\n",
      "[168.44s -> 174.12s]  veículos autônomos em espaços públicos, também em infraestruturas críticas, por\n",
      "[174.12s -> 178.68s]  exemplo. Um dos principais pontos desse texto também é que ele prevê a\n",
      "[178.68s -> 183.44s]  remuneração pelo uso de conteúdos que hoje são protegidos por direitos\n",
      "[183.44s -> 187.76s]  autorais. Essa remuneração, de acordo com o texto aprovado no Senado até o\n",
      "[187.76s -> 193.12s]  momento, tem que ser paga por quem fizer o uso dos conteúdos para treinamento ou\n",
      "[193.12s -> 198.64s]  desenvolvimento dos sistemas de inteligência artificial. Mas olha, apesar da\n",
      "[198.64s -> 204.20s]  aprovação hoje, tem senador dizendo que vai sugerir mudanças nesse texto a\n",
      "[204.20s -> 209.56s]  partir da semana que vem na análise desse texto no plenário do Senado, portanto\n",
      "[209.56s -> 214.32s]  a gente não vai acompanhando porque é um assunto bem delicado, né Debra? Volto\n",
      "[214.32s -> 216.64s]  contigo.\n",
      "\n"
     ]
    }
   ],
   "source": [
    "print(transcription)"
   ]
  },
  {
   "cell_type": "code",
   "execution_count": 31,
   "metadata": {},
   "outputs": [],
   "source": [
    "from langchain_ollama import ChatOllama\n",
    "from langchain_core.prompts import ChatPromptTemplate\n",
    "\n",
    "# Example of an LLM\n",
    "llm = ChatOllama(temperature=0, model=\"gemma3:12b\")\n",
    "\n",
    "template = \"\"\"You are an expert assistant in refining raw video transcriptions. The text provided contains timestamps, occasional disfluencies, and formatting artifacts that make it hard to read. Your task is to reformat the transcription so that it is clear and well-organized, while preserving all the original content and details. Do not summarize or omit any information; just remove unnecessary timestamps and artifacts, and adjust the text for improved readability.\n",
    "\n",
    "Raw Transcription:\n",
    "{transcription}\n",
    "\n",
    "Refined Transcription (in the language of the transcription):\n",
    "\"\"\"\n",
    "\n",
    "prompt = ChatPromptTemplate.from_template(template)\n",
    "\n",
    "messages = prompt.invoke({\"transcription\": transcription})\n",
    "\n",
    "response = llm.invoke(messages)"
   ]
  },
  {
   "cell_type": "code",
   "execution_count": 35,
   "metadata": {},
   "outputs": [
    {
     "data": {
      "text/plain": [
       "AIMessage(content='O 360 está de volta e agora vamos fazer um giro de notícias com os nossos repórteres espalhados pelo Brasil. Vamos começar. Olha, já temos Luciana Maral aqui de Brasília, Camila Tícia em Salvador e Adriana de Lucca em São Paulo. Vamos começar com a Luciana Maral, porque aqui de Brasília, a Comissão Temporária do Senado, que trata da regulamentação da inteligência artificial, aprovou hoje a proposta que cria regras para o uso dessa tecnologia no Brasil.\\n\\nLuciana, é uma informação muito importante, porque traça um risco no chão, porque por enquanto, do jeito que está, está muito...\\n\\nBoa tarde pra todas vocês, meninas. Tudo bem, Debra? Muito boa tarde a você, as meninas, a todos que nos acompanham aqui no 360, excelente tarde de quinta-feira a todo mundo. Pois é, demorou a ser aprovado a passar por essa Comissão Temporária no Senado. Levou mais de seis meses, se a gente for levar em consideração, desde quando chegou, então, ali a esse colegiado teve muita divergência, porque a oposição dizia que o texto podia restringir a liberdade de expressão, também o desenvolvimento tecnológico da inteligência artificial. O próprio relator desse texto, senador Eduardo Gomes, chegou a dizer que o governo entre si fez pedidos conflitantes em relação ao assunto.\\n\\nEntão, também é claro que esse projeto é alvo de interesse das chamadas Big Techs, as empresas de grande tecnologia, de plataformas digitais. Então, depois de meses travado por conta de impasses, foi aprovado hoje na Comissão Especial. Já teve requerimento de urgência aprovado também no Plenário do Senado, perspectiva é que o conteúdo em si desse projeto seja analisado a partir da terça-feira que vem. E daí não acaba no Senado, tá? Depois que passar pelos senadores, ainda tem que ir para a Câmara dos Deputados, mas aí a iniciativa é que realmente só seja votado a partir do ano que vem.\\n\\nBem, o que diz então o projeto? Ele regula o uso e o desenvolvimento da inteligência artificial aqui no Brasil, estabelece as definições dos sistemas de inteligência artificial, classifica ele de acordo com o risco, por exemplo. É considerado de alto risco o que tiver o potencial de impactar negativamente pessoas ou. E isso se a inteligência artificial for usada em processos de seleção, avaliação, veículos autônomos em espaços públicos, também em infraestruturas críticas, por exemplo.\\n\\nUm dos principais pontos desse texto também é que ele prevê a remuneração pelo uso de conteúdos que hoje são protegidos por direitos autorais. Essa remuneração, de acordo com o texto aprovado no Senado até o momento, tem que ser paga por quem fizer o uso dos conteúdos para treinamento ou desenvolvimento dos sistemas de inteligência artificial. Mas olha, apesar da aprovação hoje, tem senador dizendo que vai sugerir mudanças nesse texto a partir da semana que vem na análise desse texto no plenário do Senado, portanto a gente não vai acompanhando porque é um assunto bem delicado, né Debra? Volto contigo.', additional_kwargs={}, response_metadata={'model': 'gemma3:12b', 'created_at': '2025-03-17T02:59:19.6930873Z', 'done': True, 'done_reason': 'stop', 'total_duration': 36986999500, 'load_duration': 3004333500, 'prompt_eval_count': 1574, 'prompt_eval_duration': 1201000000, 'eval_count': 656, 'eval_duration': 32780000000, 'message': Message(role='assistant', content='', images=None, tool_calls=None)}, id='run-f72d989d-be74-4b5e-b220-d537e5bc85a3-0', usage_metadata={'input_tokens': 1574, 'output_tokens': 656, 'total_tokens': 2230})"
      ]
     },
     "execution_count": 35,
     "metadata": {},
     "output_type": "execute_result"
    }
   ],
   "source": [
    "response"
   ]
  },
  {
   "cell_type": "code",
   "execution_count": 36,
   "metadata": {},
   "outputs": [
    {
     "name": "stdout",
     "output_type": "stream",
     "text": [
      "O 360 está de volta e agora vamos fazer um giro de notícias com os nossos repórteres espalhados pelo\n",
      "Brasil. Vamos começar. Olha, já temos Luciana Maral aqui de Brasília, Camila Tícia em Salvador e\n",
      "Adriana de Lucca em São Paulo. Vamos começar com a Luciana Maral, porque aqui de Brasília, a\n",
      "Comissão Temporária do Senado, que trata da regulamentação da inteligência artificial, aprovou hoje\n",
      "a proposta que cria regras para o uso dessa tecnologia no Brasil.\n",
      "\n",
      "Luciana, é uma informação muito importante, porque traça um risco no chão, porque por enquanto, do\n",
      "jeito que está, está muito...\n",
      "\n",
      "Boa tarde pra todas vocês, meninas. Tudo bem, Debra? Muito boa tarde a você, as meninas, a todos que\n",
      "nos acompanham aqui no 360, excelente tarde de quinta-feira a todo mundo. Pois é, demorou a ser\n",
      "aprovado a passar por essa Comissão Temporária no Senado. Levou mais de seis meses, se a gente for\n",
      "levar em consideração, desde quando chegou, então, ali a esse colegiado teve muita divergência,\n",
      "porque a oposição dizia que o texto podia restringir a liberdade de expressão, também o\n",
      "desenvolvimento tecnológico da inteligência artificial. O próprio relator desse texto, senador\n",
      "Eduardo Gomes, chegou a dizer que o governo entre si fez pedidos conflitantes em relação ao assunto.\n",
      "\n",
      "Então, também é claro que esse projeto é alvo de interesse das chamadas Big Techs, as empresas de\n",
      "grande tecnologia, de plataformas digitais. Então, depois de meses travado por conta de impasses,\n",
      "foi aprovado hoje na Comissão Especial. Já teve requerimento de urgência aprovado também no Plenário\n",
      "do Senado, perspectiva é que o conteúdo em si desse projeto seja analisado a partir da terça-feira\n",
      "que vem. E daí não acaba no Senado, tá? Depois que passar pelos senadores, ainda tem que ir para a\n",
      "Câmara dos Deputados, mas aí a iniciativa é que realmente só seja votado a partir do ano que vem.\n",
      "\n",
      "Bem, o que diz então o projeto? Ele regula o uso e o desenvolvimento da inteligência artificial aqui\n",
      "no Brasil, estabelece as definições dos sistemas de inteligência artificial, classifica ele de\n",
      "acordo com o risco, por exemplo. É considerado de alto risco o que tiver o potencial de impactar\n",
      "negativamente pessoas ou. E isso se a inteligência artificial for usada em processos de seleção,\n",
      "avaliação, veículos autônomos em espaços públicos, também em infraestruturas críticas, por exemplo.\n",
      "\n",
      "Um dos principais pontos desse texto também é que ele prevê a remuneração pelo uso de conteúdos que\n",
      "hoje são protegidos por direitos autorais. Essa remuneração, de acordo com o texto aprovado no\n",
      "Senado até o momento, tem que ser paga por quem fizer o uso dos conteúdos para treinamento ou\n",
      "desenvolvimento dos sistemas de inteligência artificial. Mas olha, apesar da aprovação hoje, tem\n",
      "senador dizendo que vai sugerir mudanças nesse texto a partir da semana que vem na análise desse\n",
      "texto no plenário do Senado, portanto a gente não vai acompanhando porque é um assunto bem delicado,\n",
      "né Debra? Volto contigo.\n"
     ]
    }
   ],
   "source": [
    "wrapped_answer = wrap_paragraphs(response.content, width=100)\n",
    "print(wrapped_answer)"
   ]
  }
 ],
 "metadata": {
  "kernelspec": {
   "display_name": "venv",
   "language": "python",
   "name": "python3"
  },
  "language_info": {
   "codemirror_mode": {
    "name": "ipython",
    "version": 3
   },
   "file_extension": ".py",
   "mimetype": "text/x-python",
   "name": "python",
   "nbconvert_exporter": "python",
   "pygments_lexer": "ipython3",
   "version": "3.11.9"
  }
 },
 "nbformat": 4,
 "nbformat_minor": 2
}
